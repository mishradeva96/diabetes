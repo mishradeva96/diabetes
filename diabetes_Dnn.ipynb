{
 "cells": [
  {
   "cell_type": "code",
   "execution_count": 2,
   "metadata": {},
   "outputs": [],
   "source": [
    "import tensorflow as tf\n",
    "import numpy as np\n",
    "import pandas as pd\n",
    "import matplotlib.pyplot as plt\n",
    "from sklearn.model_selection import train_test_split\n",
    "%matplotlib inline"
   ]
  },
  {
   "cell_type": "code",
   "execution_count": 9,
   "metadata": {},
   "outputs": [],
   "source": [
    "from sklearn.metrics import confusion_matrix,classification_report\n",
    "import scikitplot as skplt"
   ]
  },
  {
   "cell_type": "code",
   "execution_count": 12,
   "metadata": {},
   "outputs": [],
   "source": [
    "def process_data():\n",
    "    \n",
    "    # name the column for the features map\n",
    "    columns_to_named =[\"Pregnancies\",\"Glucose\",\"BloodPressure\",\"SkinThickness\",\"Insulin\",\"BMI\",\"DiabetesPedigreeFunction\",\"Age\",\"Outcome\"]\n",
    "    \n",
    "    # Read the datasert and rename the colunm\n",
    "    df =pd.read_csv(\"diabetes.csv\",header=0,names=columns_to_named)\n",
    "    \n",
    "    col_norm =[\"Pregnancies\",\"Glucose\",\"BloodPressure\",\"SkinThickness\",\"Insulin\",\"BMI\",\"DiabetesPedigreeFunction\"]\n",
    "    \n",
    "    # Normalization using Custom Lambda Function\n",
    "    \n",
    "    df1_norm =df[col_norm].apply(lambda x :( (x - x.min()) / (x.max() -x.min()) ) )\n",
    "    \n",
    "    X =df1_norm\n",
    "    y =df[\"Outcome\"]\n",
    "    \n",
    "    X_train, X_test, y_train, y_test = train_test_split(X, y, test_size=0.3, random_state=101)\n",
    "    \n",
    "    return X_train,X_test, y_train,y_test"
   ]
  },
  {
   "cell_type": "code",
   "execution_count": 14,
   "metadata": {},
   "outputs": [],
   "source": [
    "# Define feature Map\n",
    "\n",
    "def create_feature_column():\n",
    "    feat_Pregnancies =tf.feature_column.numeric_column(\"Pregnancies\")\n",
    "    feat_Glucose =tf.feature_column.numeric_column(\"Glucose\")\n",
    "    feat_BloodPressure =tf.feature_column.numeric_column(\"BloodPressure\")\n",
    "    feat_SkinThickness =tf.feature_column.numeric_column(\"SkinThickness\")\n",
    "    feat_Insulin =tf.feature_column.numeric_column(\"Insulin\")\n",
    "    feat_BMI =tf.feature_column.numeric_column(\"BMI\")\n",
    "    feat_DiabetesPedigreeFunction =tf.feature_column.numeric_column(\"DiabetesPedigreeFunction\")\n",
    "\n",
    "    feature_column =[feat_Pregnancies,feat_Glucose,feat_BloodPressure,\n",
    "                 feat_SkinThickness,feat_Insulin,feat_BMI,\n",
    "                 feat_DiabetesPedigreeFunction]\n",
    "    return feature_column"
   ]
  },
  {
   "cell_type": "code",
   "execution_count": 17,
   "metadata": {},
   "outputs": [],
   "source": [
    "X_train,X_test, y_train,y_test =process_data()\n",
    "feature_column =create_feature_column()\n",
    "\n",
    "input_fun =tf.estimator.inputs.pandas_input_fn(X_train,y_train,\n",
    "                                              batch_size=50,\n",
    "                                              num_epochs=1000,\n",
    "                                              shuffle=True)\n",
    "eval_fun =tf.estimator.inputs.pandas_input_fn(X_train,y_train,\n",
    "                                              batch_size=50,\n",
    "                                              num_epochs=1000,\n",
    "                                              shuffle=False)\n",
    "predict_input_fn =tf.estimator.inputs.pandas_input_fn(\n",
    "                                                    x=X_test,\n",
    "                                                    num_epochs=1,\n",
    "                                                    shuffle=False)\n",
    "\n"
   ]
  },
  {
   "cell_type": "code",
   "execution_count": 19,
   "metadata": {},
   "outputs": [
    {
     "name": "stdout",
     "output_type": "stream",
     "text": [
      "INFO:tensorflow:Using default config.\n",
      "WARNING:tensorflow:Using temporary folder as model directory: C:\\Users\\MY-PC~1\\AppData\\Local\\Temp\\tmpnlg5plis\n",
      "INFO:tensorflow:Using config: {'_model_dir': 'C:\\\\Users\\\\MY-PC~1\\\\AppData\\\\Local\\\\Temp\\\\tmpnlg5plis', '_tf_random_seed': None, '_save_summary_steps': 100, '_save_checkpoints_steps': None, '_save_checkpoints_secs': 600, '_session_config': allow_soft_placement: true\n",
      "graph_options {\n",
      "  rewrite_options {\n",
      "    meta_optimizer_iterations: ONE\n",
      "  }\n",
      "}\n",
      ", '_keep_checkpoint_max': 5, '_keep_checkpoint_every_n_hours': 10000, '_log_step_count_steps': 100, '_train_distribute': None, '_device_fn': None, '_protocol': None, '_eval_distribute': None, '_experimental_distribute': None, '_service': None, '_cluster_spec': <tensorflow.python.training.server_lib.ClusterSpec object at 0x000002233DAE1C18>, '_task_type': 'worker', '_task_id': 0, '_global_id_in_cluster': 0, '_master': '', '_evaluation_master': '', '_is_chief': True, '_num_ps_replicas': 0, '_num_worker_replicas': 1}\n"
     ]
    }
   ],
   "source": [
    "# Create a Model\n",
    "\n",
    "dnnmodel =tf.estimator.DNNClassifier(\n",
    "                                    hidden_units =[20,20],\n",
    "                                    feature_columns =feature_column,\n",
    "                                    n_classes=2,\n",
    "                                    activation_fn=tf.nn.softmax,\n",
    "                                    dropout=None,\n",
    "                                    optimizer =tf.train.AdamOptimizer(learning_rate=0.01)\n",
    "                                )"
   ]
  },
  {
   "cell_type": "code",
   "execution_count": 20,
   "metadata": {},
   "outputs": [
    {
     "name": "stdout",
     "output_type": "stream",
     "text": [
      "WARNING:tensorflow:From C:\\ProgramData\\Anaconda3\\lib\\site-packages\\tensorflow\\python\\framework\\op_def_library.py:263: colocate_with (from tensorflow.python.framework.ops) is deprecated and will be removed in a future version.\n",
      "Instructions for updating:\n",
      "Colocations handled automatically by placer.\n",
      "WARNING:tensorflow:From C:\\ProgramData\\Anaconda3\\lib\\site-packages\\tensorflow_estimator\\python\\estimator\\inputs\\queues\\feeding_queue_runner.py:62: QueueRunner.__init__ (from tensorflow.python.training.queue_runner_impl) is deprecated and will be removed in a future version.\n",
      "Instructions for updating:\n",
      "To construct input pipelines, use the `tf.data` module.\n",
      "WARNING:tensorflow:From C:\\ProgramData\\Anaconda3\\lib\\site-packages\\tensorflow_estimator\\python\\estimator\\inputs\\queues\\feeding_functions.py:500: add_queue_runner (from tensorflow.python.training.queue_runner_impl) is deprecated and will be removed in a future version.\n",
      "Instructions for updating:\n",
      "To construct input pipelines, use the `tf.data` module.\n",
      "INFO:tensorflow:Calling model_fn.\n",
      "WARNING:tensorflow:From C:\\ProgramData\\Anaconda3\\lib\\site-packages\\tensorflow\\python\\feature_column\\feature_column_v2.py:2703: to_float (from tensorflow.python.ops.math_ops) is deprecated and will be removed in a future version.\n",
      "Instructions for updating:\n",
      "Use tf.cast instead.\n",
      "INFO:tensorflow:Done calling model_fn.\n",
      "INFO:tensorflow:Create CheckpointSaverHook.\n",
      "INFO:tensorflow:Graph was finalized.\n",
      "INFO:tensorflow:Running local_init_op.\n",
      "INFO:tensorflow:Done running local_init_op.\n",
      "WARNING:tensorflow:From C:\\ProgramData\\Anaconda3\\lib\\site-packages\\tensorflow\\python\\training\\monitored_session.py:809: start_queue_runners (from tensorflow.python.training.queue_runner_impl) is deprecated and will be removed in a future version.\n",
      "Instructions for updating:\n",
      "To construct input pipelines, use the `tf.data` module.\n",
      "INFO:tensorflow:Saving checkpoints for 0 into C:\\Users\\MY-PC~1\\AppData\\Local\\Temp\\tmpnlg5plis\\model.ckpt.\n",
      "INFO:tensorflow:loss = 34.854465, step = 1\n",
      "INFO:tensorflow:global_step/sec: 154.858\n",
      "INFO:tensorflow:loss = 31.815098, step = 101 (0.652 sec)\n",
      "INFO:tensorflow:global_step/sec: 361.975\n",
      "INFO:tensorflow:loss = 28.265411, step = 201 (0.275 sec)\n",
      "INFO:tensorflow:global_step/sec: 311.389\n",
      "INFO:tensorflow:loss = 27.763258, step = 301 (0.332 sec)\n",
      "INFO:tensorflow:global_step/sec: 304.766\n",
      "INFO:tensorflow:loss = 19.065462, step = 401 (0.316 sec)\n",
      "INFO:tensorflow:Saving checkpoints for 500 into C:\\Users\\MY-PC~1\\AppData\\Local\\Temp\\tmpnlg5plis\\model.ckpt.\n",
      "INFO:tensorflow:Loss for final step: 28.888134.\n"
     ]
    }
   ],
   "source": [
    "# Evaluate:\n",
    "\n",
    "history =dnnmodel.train(input_fn =input_fun,\n",
    "                       steps=500)"
   ]
  },
  {
   "cell_type": "code",
   "execution_count": 21,
   "metadata": {},
   "outputs": [
    {
     "name": "stdout",
     "output_type": "stream",
     "text": [
      "INFO:tensorflow:Calling model_fn.\n",
      "WARNING:tensorflow:From C:\\ProgramData\\Anaconda3\\lib\\site-packages\\tensorflow\\python\\ops\\metrics_impl.py:2002: div (from tensorflow.python.ops.math_ops) is deprecated and will be removed in a future version.\n",
      "Instructions for updating:\n",
      "Deprecated in favor of operator or tf.math.divide.\n",
      "WARNING:tensorflow:Trapezoidal rule is known to produce incorrect PR-AUCs; please switch to \"careful_interpolation\" instead.\n",
      "WARNING:tensorflow:Trapezoidal rule is known to produce incorrect PR-AUCs; please switch to \"careful_interpolation\" instead.\n",
      "INFO:tensorflow:Done calling model_fn.\n",
      "INFO:tensorflow:Starting evaluation at 2019-09-11T04:38:55Z\n",
      "INFO:tensorflow:Graph was finalized.\n",
      "WARNING:tensorflow:From C:\\ProgramData\\Anaconda3\\lib\\site-packages\\tensorflow\\python\\training\\saver.py:1266: checkpoint_exists (from tensorflow.python.training.checkpoint_management) is deprecated and will be removed in a future version.\n",
      "Instructions for updating:\n",
      "Use standard file APIs to check for files with this prefix.\n",
      "INFO:tensorflow:Restoring parameters from C:\\Users\\MY-PC~1\\AppData\\Local\\Temp\\tmpnlg5plis\\model.ckpt-500\n",
      "INFO:tensorflow:Running local_init_op.\n",
      "INFO:tensorflow:Done running local_init_op.\n",
      "INFO:tensorflow:Finished evaluation at 2019-09-11-04:39:38\n",
      "INFO:tensorflow:Saving dict for global step 500: accuracy = 0.76908755, accuracy_baseline = 0.6517691, auc = 0.8376318, auc_precision_recall = 0.71604073, average_loss = 0.4726137, global_step = 500, label/mean = 0.3482309, loss = 23.630684, precision = 0.69325155, prediction/mean = 0.34128547, recall = 0.6042781\n",
      "INFO:tensorflow:Saving 'checkpoint_path' summary for global step 500: C:\\Users\\MY-PC~1\\AppData\\Local\\Temp\\tmpnlg5plis\\model.ckpt-500\n"
     ]
    },
    {
     "data": {
      "text/plain": [
       "{'accuracy': 0.76908755,\n",
       " 'accuracy_baseline': 0.6517691,\n",
       " 'auc': 0.8376318,\n",
       " 'auc_precision_recall': 0.71604073,\n",
       " 'average_loss': 0.4726137,\n",
       " 'label/mean': 0.3482309,\n",
       " 'loss': 23.630684,\n",
       " 'precision': 0.69325155,\n",
       " 'prediction/mean': 0.34128547,\n",
       " 'recall': 0.6042781,\n",
       " 'global_step': 500}"
      ]
     },
     "execution_count": 21,
     "metadata": {},
     "output_type": "execute_result"
    }
   ],
   "source": [
    "dnnmodel.evaluate(eval_fun)"
   ]
  },
  {
   "cell_type": "code",
   "execution_count": 29,
   "metadata": {},
   "outputs": [
    {
     "name": "stdout",
     "output_type": "stream",
     "text": [
      "INFO:tensorflow:Calling model_fn.\n",
      "INFO:tensorflow:Done calling model_fn.\n",
      "INFO:tensorflow:Graph was finalized.\n",
      "INFO:tensorflow:Restoring parameters from C:\\Users\\MY-PC~1\\AppData\\Local\\Temp\\tmpnlg5plis\\model.ckpt-500\n",
      "INFO:tensorflow:Running local_init_op.\n",
      "INFO:tensorflow:Done running local_init_op.\n"
     ]
    }
   ],
   "source": [
    "predictions =list(dnnmodel.predict(input_fn=predict_input_fn))\n",
    "prediction =[p[\"class_ids\"][0] for p in predictions]\n",
    "data =classification_report(y_test,prediction)\n",
    "conmat= confusion_matrix(y_test,prediction)"
   ]
  },
  {
   "cell_type": "code",
   "execution_count": 31,
   "metadata": {},
   "outputs": [
    {
     "data": {
      "text/plain": [
       "<matplotlib.axes._subplots.AxesSubplot at 0x22342897c88>"
      ]
     },
     "execution_count": 31,
     "metadata": {},
     "output_type": "execute_result"
    },
    {
     "data": {
      "image/png": "[encoded data removed]",
      "text/plain": [
       "<Figure size 576x576 with 2 Axes>"
      ]
     },
     "metadata": {
      "needs_background": "light"
     },
     "output_type": "display_data"
    }
   ],
   "source": [
    "# Analysis\n",
    "\n",
    "skplt.metrics.plot_confusion_matrix(y_test,\n",
    "                                   prediction,\n",
    "                                   figsize=(8,8),\n",
    "                                   title=\"Confusion Matrix\")"
   ]
  },
  {
   "cell_type": "code",
   "execution_count": 32,
   "metadata": {},
   "outputs": [
    {
     "name": "stdout",
     "output_type": "stream",
     "text": [
      "              precision    recall  f1-score   support\n",
      "\n",
      "           0       0.84      0.85      0.84       150\n",
      "           1       0.71      0.69      0.70        81\n",
      "\n",
      "   micro avg       0.79      0.79      0.79       231\n",
      "   macro avg       0.77      0.77      0.77       231\n",
      "weighted avg       0.79      0.79      0.79       231\n",
      "\n"
     ]
    }
   ],
   "source": [
    "print(data)"
   ]
  },
  {
   "cell_type": "code",
   "execution_count": null,
   "metadata": {},
   "outputs": [],
   "source": []
  }
 ],
 "metadata": {
  "kernelspec": {
   "display_name": "Python 3",
   "language": "python",
   "name": "python3"
  },
  "language_info": {
   "codemirror_mode": {
    "name": "ipython",
    "version": 3
   },
   "file_extension": ".py",
   "mimetype": "text/x-python",
   "name": "python",
   "nbconvert_exporter": "python",
   "pygments_lexer": "ipython3",
   "version": "3.7.1"
  }
 },
 "nbformat": 4,
 "nbformat_minor": 2
}
