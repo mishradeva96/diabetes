{
 "cells": [
  {
   "cell_type": "code",
   "execution_count": 1,
   "metadata": {},
   "outputs": [],
   "source": [
    "import tensorflow as tf\n",
    "import numpy as np\n",
    "from sklearn.model_selection import train_test_split\n",
    "import matplotlib.pyplot as plt\n",
    "import pandas as pd \n",
    "import seaborn as sns \n",
    "\n",
    "%matplotlib inline"
   ]
  },
  {
   "cell_type": "code",
   "execution_count": 2,
   "metadata": {},
   "outputs": [],
   "source": [
    "df =pd.read_csv(\"diabetes.csv\")"
   ]
  },
  {
   "cell_type": "code",
   "execution_count": 3,
   "metadata": {},
   "outputs": [
    {
     "name": "stdout",
     "output_type": "stream",
     "text": [
      "<class 'pandas.core.frame.DataFrame'>\n",
      "RangeIndex: 768 entries, 0 to 767\n",
      "Data columns (total 9 columns):\n",
      "Pregnancies                 768 non-null int64\n",
      "Glucose                     768 non-null int64\n",
      "BloodPressure               768 non-null int64\n",
      "SkinThickness               768 non-null int64\n",
      "Insulin                     768 non-null int64\n",
      "BMI                         768 non-null float64\n",
      "DiabetesPedigreeFunction    768 non-null float64\n",
      "Age                         768 non-null int64\n",
      "Outcome                     768 non-null int64\n",
      "dtypes: float64(2), int64(7)\n",
      "memory usage: 54.1 KB\n"
     ]
    }
   ],
   "source": [
    "df.info()"
   ]
  },
  {
   "cell_type": "code",
   "execution_count": 4,
   "metadata": {},
   "outputs": [
    {
     "data": {
      "text/plain": [
       "Index(['Pregnancies', 'Glucose', 'BloodPressure', 'SkinThickness', 'Insulin',\n",
       "       'BMI', 'DiabetesPedigreeFunction', 'Age', 'Outcome'],\n",
       "      dtype='object')"
      ]
     },
     "execution_count": 4,
     "metadata": {},
     "output_type": "execute_result"
    }
   ],
   "source": [
    "df.columns"
   ]
  },
  {
   "cell_type": "code",
   "execution_count": 5,
   "metadata": {},
   "outputs": [
    {
     "data": {
      "text/html": [
       "<div>\n",
       "<style scoped>\n",
       "    .dataframe tbody tr th:only-of-type {\n",
       "        vertical-align: middle;\n",
       "    }\n",
       "\n",
       "    .dataframe tbody tr th {\n",
       "        vertical-align: top;\n",
       "    }\n",
       "\n",
       "    .dataframe thead th {\n",
       "        text-align: right;\n",
       "    }\n",
       "</style>\n",
       "<table border=\"1\" class=\"dataframe\">\n",
       "  <thead>\n",
       "    <tr style=\"text-align: right;\">\n",
       "      <th></th>\n",
       "      <th>Pregnancies</th>\n",
       "      <th>Glucose</th>\n",
       "      <th>BloodPressure</th>\n",
       "      <th>SkinThickness</th>\n",
       "      <th>Insulin</th>\n",
       "      <th>BMI</th>\n",
       "      <th>DiabetesPedigreeFunction</th>\n",
       "      <th>Age</th>\n",
       "      <th>Outcome</th>\n",
       "    </tr>\n",
       "  </thead>\n",
       "  <tbody>\n",
       "    <tr>\n",
       "      <th>0</th>\n",
       "      <td>6</td>\n",
       "      <td>148</td>\n",
       "      <td>72</td>\n",
       "      <td>35</td>\n",
       "      <td>0</td>\n",
       "      <td>33.6</td>\n",
       "      <td>0.627</td>\n",
       "      <td>50</td>\n",
       "      <td>1</td>\n",
       "    </tr>\n",
       "    <tr>\n",
       "      <th>1</th>\n",
       "      <td>1</td>\n",
       "      <td>85</td>\n",
       "      <td>66</td>\n",
       "      <td>29</td>\n",
       "      <td>0</td>\n",
       "      <td>26.6</td>\n",
       "      <td>0.351</td>\n",
       "      <td>31</td>\n",
       "      <td>0</td>\n",
       "    </tr>\n",
       "    <tr>\n",
       "      <th>2</th>\n",
       "      <td>8</td>\n",
       "      <td>183</td>\n",
       "      <td>64</td>\n",
       "      <td>0</td>\n",
       "      <td>0</td>\n",
       "      <td>23.3</td>\n",
       "      <td>0.672</td>\n",
       "      <td>32</td>\n",
       "      <td>1</td>\n",
       "    </tr>\n",
       "    <tr>\n",
       "      <th>3</th>\n",
       "      <td>1</td>\n",
       "      <td>89</td>\n",
       "      <td>66</td>\n",
       "      <td>23</td>\n",
       "      <td>94</td>\n",
       "      <td>28.1</td>\n",
       "      <td>0.167</td>\n",
       "      <td>21</td>\n",
       "      <td>0</td>\n",
       "    </tr>\n",
       "    <tr>\n",
       "      <th>4</th>\n",
       "      <td>0</td>\n",
       "      <td>137</td>\n",
       "      <td>40</td>\n",
       "      <td>35</td>\n",
       "      <td>168</td>\n",
       "      <td>43.1</td>\n",
       "      <td>2.288</td>\n",
       "      <td>33</td>\n",
       "      <td>1</td>\n",
       "    </tr>\n",
       "  </tbody>\n",
       "</table>\n",
       "</div>"
      ],
      "text/plain": [
       "   Pregnancies  Glucose  BloodPressure  SkinThickness  Insulin   BMI  \\\n",
       "0            6      148             72             35        0  33.6   \n",
       "1            1       85             66             29        0  26.6   \n",
       "2            8      183             64              0        0  23.3   \n",
       "3            1       89             66             23       94  28.1   \n",
       "4            0      137             40             35      168  43.1   \n",
       "\n",
       "   DiabetesPedigreeFunction  Age  Outcome  \n",
       "0                     0.627   50        1  \n",
       "1                     0.351   31        0  \n",
       "2                     0.672   32        1  \n",
       "3                     0.167   21        0  \n",
       "4                     2.288   33        1  "
      ]
     },
     "execution_count": 5,
     "metadata": {},
     "output_type": "execute_result"
    }
   ],
   "source": [
    "df.head()"
   ]
  },
  {
   "cell_type": "code",
   "execution_count": 6,
   "metadata": {},
   "outputs": [],
   "source": [
    "col_norm =['Pregnancies', 'Glucose', 'BloodPressure', 'SkinThickness', 'Insulin',\n",
    "       'BMI', 'DiabetesPedigreeFunction']"
   ]
  },
  {
   "cell_type": "code",
   "execution_count": 7,
   "metadata": {},
   "outputs": [],
   "source": [
    "df_norm =df[col_norm]"
   ]
  },
  {
   "cell_type": "code",
   "execution_count": 8,
   "metadata": {},
   "outputs": [
    {
     "data": {
      "text/html": [
       "<div>\n",
       "<style scoped>\n",
       "    .dataframe tbody tr th:only-of-type {\n",
       "        vertical-align: middle;\n",
       "    }\n",
       "\n",
       "    .dataframe tbody tr th {\n",
       "        vertical-align: top;\n",
       "    }\n",
       "\n",
       "    .dataframe thead th {\n",
       "        text-align: right;\n",
       "    }\n",
       "</style>\n",
       "<table border=\"1\" class=\"dataframe\">\n",
       "  <thead>\n",
       "    <tr style=\"text-align: right;\">\n",
       "      <th></th>\n",
       "      <th>Pregnancies</th>\n",
       "      <th>Glucose</th>\n",
       "      <th>BloodPressure</th>\n",
       "      <th>SkinThickness</th>\n",
       "      <th>Insulin</th>\n",
       "      <th>BMI</th>\n",
       "      <th>DiabetesPedigreeFunction</th>\n",
       "    </tr>\n",
       "  </thead>\n",
       "  <tbody>\n",
       "    <tr>\n",
       "      <th>0</th>\n",
       "      <td>6</td>\n",
       "      <td>148</td>\n",
       "      <td>72</td>\n",
       "      <td>35</td>\n",
       "      <td>0</td>\n",
       "      <td>33.6</td>\n",
       "      <td>0.627</td>\n",
       "    </tr>\n",
       "    <tr>\n",
       "      <th>1</th>\n",
       "      <td>1</td>\n",
       "      <td>85</td>\n",
       "      <td>66</td>\n",
       "      <td>29</td>\n",
       "      <td>0</td>\n",
       "      <td>26.6</td>\n",
       "      <td>0.351</td>\n",
       "    </tr>\n",
       "  </tbody>\n",
       "</table>\n",
       "</div>"
      ],
      "text/plain": [
       "   Pregnancies  Glucose  BloodPressure  SkinThickness  Insulin   BMI  \\\n",
       "0            6      148             72             35        0  33.6   \n",
       "1            1       85             66             29        0  26.6   \n",
       "\n",
       "   DiabetesPedigreeFunction  \n",
       "0                     0.627  \n",
       "1                     0.351  "
      ]
     },
     "execution_count": 8,
     "metadata": {},
     "output_type": "execute_result"
    }
   ],
   "source": [
    "df_norm.head(2)"
   ]
  },
  {
   "cell_type": "code",
   "execution_count": 9,
   "metadata": {},
   "outputs": [],
   "source": [
    "df1_norm=df[col_norm].apply(lambda x:( (x - x.min()) / (x.max()-x.min())))"
   ]
  },
  {
   "cell_type": "code",
   "execution_count": 10,
   "metadata": {},
   "outputs": [
    {
     "data": {
      "text/html": [
       "<div>\n",
       "<style scoped>\n",
       "    .dataframe tbody tr th:only-of-type {\n",
       "        vertical-align: middle;\n",
       "    }\n",
       "\n",
       "    .dataframe tbody tr th {\n",
       "        vertical-align: top;\n",
       "    }\n",
       "\n",
       "    .dataframe thead th {\n",
       "        text-align: right;\n",
       "    }\n",
       "</style>\n",
       "<table border=\"1\" class=\"dataframe\">\n",
       "  <thead>\n",
       "    <tr style=\"text-align: right;\">\n",
       "      <th></th>\n",
       "      <th>Pregnancies</th>\n",
       "      <th>Glucose</th>\n",
       "      <th>BloodPressure</th>\n",
       "      <th>SkinThickness</th>\n",
       "      <th>Insulin</th>\n",
       "      <th>BMI</th>\n",
       "      <th>DiabetesPedigreeFunction</th>\n",
       "    </tr>\n",
       "  </thead>\n",
       "  <tbody>\n",
       "    <tr>\n",
       "      <th>0</th>\n",
       "      <td>0.352941</td>\n",
       "      <td>0.743719</td>\n",
       "      <td>0.590164</td>\n",
       "      <td>0.353535</td>\n",
       "      <td>0.0</td>\n",
       "      <td>0.500745</td>\n",
       "      <td>0.234415</td>\n",
       "    </tr>\n",
       "    <tr>\n",
       "      <th>1</th>\n",
       "      <td>0.058824</td>\n",
       "      <td>0.427136</td>\n",
       "      <td>0.540984</td>\n",
       "      <td>0.292929</td>\n",
       "      <td>0.0</td>\n",
       "      <td>0.396423</td>\n",
       "      <td>0.116567</td>\n",
       "    </tr>\n",
       "  </tbody>\n",
       "</table>\n",
       "</div>"
      ],
      "text/plain": [
       "   Pregnancies   Glucose  BloodPressure  SkinThickness  Insulin       BMI  \\\n",
       "0     0.352941  0.743719       0.590164       0.353535      0.0  0.500745   \n",
       "1     0.058824  0.427136       0.540984       0.292929      0.0  0.396423   \n",
       "\n",
       "   DiabetesPedigreeFunction  \n",
       "0                  0.234415  \n",
       "1                  0.116567  "
      ]
     },
     "execution_count": 10,
     "metadata": {},
     "output_type": "execute_result"
    }
   ],
   "source": [
    "df1_norm.head(2)"
   ]
  },
  {
   "cell_type": "code",
   "execution_count": 11,
   "metadata": {},
   "outputs": [],
   "source": [
    "feat_Pregnancies =tf.feature_column.numeric_column(\"Pregnancies\")\n",
    "feat_Glucose =tf.feature_column.numeric_column(\"Glucose\")\n",
    "feat_BloodPressure =tf.feature_column.numeric_column(\"BloodPressure\")\n",
    "feat_SkinThickness =tf.feature_column.numeric_column(\"SkinThickness\")\n",
    "feat_Insulin =tf.feature_column.numeric_column(\"Insulin\")\n",
    "feat_BMI =tf.feature_column.numeric_column(\"BMI\")\n",
    "feat_DiabetesPedigreeFunction =tf.feature_column.numeric_column(\"DiabetesPedigreeFunction\")"
   ]
  },
  {
   "cell_type": "code",
   "execution_count": 12,
   "metadata": {},
   "outputs": [],
   "source": [
    "feat_column=[feat_Pregnancies,feat_Glucose,feat_BloodPressure,\n",
    "           feat_SkinThickness,feat_Insulin,\n",
    "           feat_BMI,feat_DiabetesPedigreeFunction]"
   ]
  },
  {
   "cell_type": "code",
   "execution_count": 13,
   "metadata": {},
   "outputs": [
    {
     "data": {
      "text/plain": [
       "0    1\n",
       "1    0\n",
       "2    1\n",
       "Name: Outcome, dtype: int64"
      ]
     },
     "execution_count": 13,
     "metadata": {},
     "output_type": "execute_result"
    }
   ],
   "source": [
    "y =df[\"Outcome\"]\n",
    "y.head(3)"
   ]
  },
  {
   "cell_type": "code",
   "execution_count": 14,
   "metadata": {},
   "outputs": [
    {
     "data": {
      "text/html": [
       "<div>\n",
       "<style scoped>\n",
       "    .dataframe tbody tr th:only-of-type {\n",
       "        vertical-align: middle;\n",
       "    }\n",
       "\n",
       "    .dataframe tbody tr th {\n",
       "        vertical-align: top;\n",
       "    }\n",
       "\n",
       "    .dataframe thead th {\n",
       "        text-align: right;\n",
       "    }\n",
       "</style>\n",
       "<table border=\"1\" class=\"dataframe\">\n",
       "  <thead>\n",
       "    <tr style=\"text-align: right;\">\n",
       "      <th></th>\n",
       "      <th>Pregnancies</th>\n",
       "      <th>Glucose</th>\n",
       "      <th>BloodPressure</th>\n",
       "      <th>SkinThickness</th>\n",
       "      <th>Insulin</th>\n",
       "      <th>BMI</th>\n",
       "      <th>DiabetesPedigreeFunction</th>\n",
       "    </tr>\n",
       "  </thead>\n",
       "  <tbody>\n",
       "    <tr>\n",
       "      <th>0</th>\n",
       "      <td>0.352941</td>\n",
       "      <td>0.743719</td>\n",
       "      <td>0.590164</td>\n",
       "      <td>0.353535</td>\n",
       "      <td>0.0</td>\n",
       "      <td>0.500745</td>\n",
       "      <td>0.234415</td>\n",
       "    </tr>\n",
       "    <tr>\n",
       "      <th>1</th>\n",
       "      <td>0.058824</td>\n",
       "      <td>0.427136</td>\n",
       "      <td>0.540984</td>\n",
       "      <td>0.292929</td>\n",
       "      <td>0.0</td>\n",
       "      <td>0.396423</td>\n",
       "      <td>0.116567</td>\n",
       "    </tr>\n",
       "  </tbody>\n",
       "</table>\n",
       "</div>"
      ],
      "text/plain": [
       "   Pregnancies   Glucose  BloodPressure  SkinThickness  Insulin       BMI  \\\n",
       "0     0.352941  0.743719       0.590164       0.353535      0.0  0.500745   \n",
       "1     0.058824  0.427136       0.540984       0.292929      0.0  0.396423   \n",
       "\n",
       "   DiabetesPedigreeFunction  \n",
       "0                  0.234415  \n",
       "1                  0.116567  "
      ]
     },
     "execution_count": 14,
     "metadata": {},
     "output_type": "execute_result"
    }
   ],
   "source": [
    "X =df1_norm\n",
    "X.head(2)"
   ]
  },
  {
   "cell_type": "code",
   "execution_count": 15,
   "metadata": {},
   "outputs": [],
   "source": [
    "X_train, X_test, y_train, y_test = train_test_split(X, y, test_size=0.3, random_state=101)"
   ]
  },
  {
   "cell_type": "code",
   "execution_count": 16,
   "metadata": {},
   "outputs": [],
   "source": [
    "input_fun =tf.estimator.inputs.pandas_input_fn(x=X_train,\n",
    "                                              y=y_train,\n",
    "                                              batch_size=10,\n",
    "                                             num_epochs =100,\n",
    "                                              shuffle =True)"
   ]
  },
  {
   "cell_type": "code",
   "execution_count": 17,
   "metadata": {},
   "outputs": [],
   "source": [
    "test_fun =tf.estimator.inputs.pandas_input_fn(x=X_test,\n",
    "                                              y=y_test,\n",
    "                                              batch_size=10,\n",
    "                                             num_epochs =1,\n",
    "                                              shuffle =False)"
   ]
  },
  {
   "cell_type": "code",
   "execution_count": 18,
   "metadata": {},
   "outputs": [
    {
     "name": "stdout",
     "output_type": "stream",
     "text": [
      "INFO:tensorflow:Using default config.\n",
      "WARNING:tensorflow:Using temporary folder as model directory: C:\\Users\\MY-PC~1\\AppData\\Local\\Temp\\tmpdcy_onwk\n",
      "INFO:tensorflow:Using config: {'_model_dir': 'C:\\\\Users\\\\MY-PC~1\\\\AppData\\\\Local\\\\Temp\\\\tmpdcy_onwk', '_tf_random_seed': None, '_save_summary_steps': 100, '_save_checkpoints_steps': None, '_save_checkpoints_secs': 600, '_session_config': allow_soft_placement: true\n",
      "graph_options {\n",
      "  rewrite_options {\n",
      "    meta_optimizer_iterations: ONE\n",
      "  }\n",
      "}\n",
      ", '_keep_checkpoint_max': 5, '_keep_checkpoint_every_n_hours': 10000, '_log_step_count_steps': 100, '_train_distribute': None, '_device_fn': None, '_protocol': None, '_eval_distribute': None, '_experimental_distribute': None, '_service': None, '_cluster_spec': <tensorflow.python.training.server_lib.ClusterSpec object at 0x0000028BDE9845F8>, '_task_type': 'worker', '_task_id': 0, '_global_id_in_cluster': 0, '_master': '', '_evaluation_master': '', '_is_chief': True, '_num_ps_replicas': 0, '_num_worker_replicas': 1}\n"
     ]
    }
   ],
   "source": [
    "model=tf.estimator.LinearClassifier(feature_columns=feat_column,\n",
    "                                   n_classes=2)"
   ]
  },
  {
   "cell_type": "code",
   "execution_count": 19,
   "metadata": {},
   "outputs": [
    {
     "name": "stdout",
     "output_type": "stream",
     "text": [
      "INFO:tensorflow:Using default config.\n",
      "WARNING:tensorflow:Using temporary folder as model directory: C:\\Users\\MY-PC~1\\AppData\\Local\\Temp\\tmpodjni8cg\n",
      "INFO:tensorflow:Using config: {'_model_dir': 'C:\\\\Users\\\\MY-PC~1\\\\AppData\\\\Local\\\\Temp\\\\tmpodjni8cg', '_tf_random_seed': None, '_save_summary_steps': 100, '_save_checkpoints_steps': None, '_save_checkpoints_secs': 600, '_session_config': allow_soft_placement: true\n",
      "graph_options {\n",
      "  rewrite_options {\n",
      "    meta_optimizer_iterations: ONE\n",
      "  }\n",
      "}\n",
      ", '_keep_checkpoint_max': 5, '_keep_checkpoint_every_n_hours': 10000, '_log_step_count_steps': 100, '_train_distribute': None, '_device_fn': None, '_protocol': None, '_eval_distribute': None, '_experimental_distribute': None, '_service': None, '_cluster_spec': <tensorflow.python.training.server_lib.ClusterSpec object at 0x0000028BDE9A4748>, '_task_type': 'worker', '_task_id': 0, '_global_id_in_cluster': 0, '_master': '', '_evaluation_master': '', '_is_chief': True, '_num_ps_replicas': 0, '_num_worker_replicas': 1}\n"
     ]
    }
   ],
   "source": [
    "model =tf.estimator.LinearClassifier(\n",
    "        feature_columns=feat_column,\n",
    "        optimizer=tf.train.FtrlOptimizer(\n",
    "        learning_rate=0.123,\n",
    "        l1_regularization_strength=0.001\n",
    "        ))"
   ]
  },
  {
   "cell_type": "code",
   "execution_count": 20,
   "metadata": {},
   "outputs": [
    {
     "name": "stdout",
     "output_type": "stream",
     "text": [
      "WARNING:tensorflow:From C:\\ProgramData\\Anaconda3\\lib\\site-packages\\tensorflow\\python\\framework\\op_def_library.py:263: colocate_with (from tensorflow.python.framework.ops) is deprecated and will be removed in a future version.\n",
      "Instructions for updating:\n",
      "Colocations handled automatically by placer.\n",
      "WARNING:tensorflow:From C:\\ProgramData\\Anaconda3\\lib\\site-packages\\tensorflow_estimator\\python\\estimator\\inputs\\queues\\feeding_queue_runner.py:62: QueueRunner.__init__ (from tensorflow.python.training.queue_runner_impl) is deprecated and will be removed in a future version.\n",
      "Instructions for updating:\n",
      "To construct input pipelines, use the `tf.data` module.\n",
      "WARNING:tensorflow:From C:\\ProgramData\\Anaconda3\\lib\\site-packages\\tensorflow_estimator\\python\\estimator\\inputs\\queues\\feeding_functions.py:500: add_queue_runner (from tensorflow.python.training.queue_runner_impl) is deprecated and will be removed in a future version.\n",
      "Instructions for updating:\n",
      "To construct input pipelines, use the `tf.data` module.\n",
      "INFO:tensorflow:Calling model_fn.\n",
      "WARNING:tensorflow:From C:\\ProgramData\\Anaconda3\\lib\\site-packages\\tensorflow\\python\\feature_column\\feature_column_v2.py:2703: to_float (from tensorflow.python.ops.math_ops) is deprecated and will be removed in a future version.\n",
      "Instructions for updating:\n",
      "Use tf.cast instead.\n",
      "INFO:tensorflow:Done calling model_fn.\n",
      "INFO:tensorflow:Create CheckpointSaverHook.\n",
      "INFO:tensorflow:Graph was finalized.\n",
      "INFO:tensorflow:Running local_init_op.\n",
      "INFO:tensorflow:Done running local_init_op.\n",
      "WARNING:tensorflow:From C:\\ProgramData\\Anaconda3\\lib\\site-packages\\tensorflow\\python\\training\\monitored_session.py:809: start_queue_runners (from tensorflow.python.training.queue_runner_impl) is deprecated and will be removed in a future version.\n",
      "Instructions for updating:\n",
      "To construct input pipelines, use the `tf.data` module.\n",
      "INFO:tensorflow:Saving checkpoints for 0 into C:\\Users\\MY-PC~1\\AppData\\Local\\Temp\\tmpodjni8cg\\model.ckpt.\n",
      "INFO:tensorflow:loss = 6.931472, step = 1\n",
      "INFO:tensorflow:global_step/sec: 141.473\n",
      "INFO:tensorflow:loss = 6.527405, step = 101 (0.714 sec)\n",
      "INFO:tensorflow:global_step/sec: 321.637\n",
      "INFO:tensorflow:loss = 5.927151, step = 201 (0.310 sec)\n",
      "INFO:tensorflow:global_step/sec: 293.733\n",
      "INFO:tensorflow:loss = 7.4454384, step = 301 (0.341 sec)\n",
      "INFO:tensorflow:global_step/sec: 304.576\n",
      "INFO:tensorflow:loss = 7.573222, step = 401 (0.326 sec)\n",
      "INFO:tensorflow:global_step/sec: 266.656\n",
      "INFO:tensorflow:loss = 7.9275055, step = 501 (0.375 sec)\n",
      "INFO:tensorflow:global_step/sec: 315.188\n",
      "INFO:tensorflow:loss = 7.079276, step = 601 (0.317 sec)\n",
      "INFO:tensorflow:global_step/sec: 306.913\n",
      "INFO:tensorflow:loss = 5.6577115, step = 701 (0.329 sec)\n",
      "INFO:tensorflow:global_step/sec: 286.919\n",
      "INFO:tensorflow:loss = 6.450021, step = 801 (0.346 sec)\n",
      "INFO:tensorflow:global_step/sec: 313.53\n",
      "INFO:tensorflow:loss = 4.799673, step = 901 (0.318 sec)\n",
      "INFO:tensorflow:global_step/sec: 285.757\n",
      "INFO:tensorflow:loss = 7.2337494, step = 1001 (0.346 sec)\n",
      "INFO:tensorflow:global_step/sec: 293.43\n",
      "INFO:tensorflow:loss = 5.413342, step = 1101 (0.349 sec)\n",
      "INFO:tensorflow:global_step/sec: 286.758\n",
      "INFO:tensorflow:loss = 6.3449125, step = 1201 (0.345 sec)\n",
      "INFO:tensorflow:global_step/sec: 304.683\n",
      "INFO:tensorflow:loss = 5.633502, step = 1301 (0.331 sec)\n",
      "INFO:tensorflow:global_step/sec: 304.853\n",
      "INFO:tensorflow:loss = 6.3884187, step = 1401 (0.327 sec)\n",
      "INFO:tensorflow:global_step/sec: 330.752\n",
      "INFO:tensorflow:loss = 5.911919, step = 1501 (0.300 sec)\n",
      "INFO:tensorflow:global_step/sec: 317.763\n",
      "INFO:tensorflow:loss = 6.6465096, step = 1601 (0.325 sec)\n",
      "INFO:tensorflow:global_step/sec: 308.176\n",
      "INFO:tensorflow:loss = 5.2376795, step = 1701 (0.316 sec)\n",
      "INFO:tensorflow:global_step/sec: 291.495\n",
      "INFO:tensorflow:loss = 8.179771, step = 1801 (0.350 sec)\n",
      "INFO:tensorflow:global_step/sec: 277.27\n",
      "INFO:tensorflow:loss = 4.732735, step = 1901 (0.348 sec)\n",
      "INFO:tensorflow:global_step/sec: 311.527\n",
      "INFO:tensorflow:loss = 5.149766, step = 2001 (0.326 sec)\n",
      "INFO:tensorflow:global_step/sec: 285.912\n",
      "INFO:tensorflow:loss = 4.586645, step = 2101 (0.345 sec)\n",
      "INFO:tensorflow:global_step/sec: 316.404\n",
      "INFO:tensorflow:loss = 6.089357, step = 2201 (0.328 sec)\n",
      "INFO:tensorflow:global_step/sec: 303.456\n",
      "INFO:tensorflow:loss = 5.7026443, step = 2301 (0.321 sec)\n",
      "INFO:tensorflow:global_step/sec: 261.301\n",
      "INFO:tensorflow:loss = 3.9234042, step = 2401 (0.386 sec)\n",
      "INFO:tensorflow:global_step/sec: 285.679\n",
      "INFO:tensorflow:loss = 6.3734694, step = 2501 (0.346 sec)\n",
      "INFO:tensorflow:global_step/sec: 326.622\n",
      "INFO:tensorflow:loss = 4.559377, step = 2601 (0.307 sec)\n",
      "INFO:tensorflow:global_step/sec: 292.177\n",
      "INFO:tensorflow:loss = 4.756466, step = 2701 (0.342 sec)\n",
      "INFO:tensorflow:global_step/sec: 301.298\n",
      "INFO:tensorflow:loss = 5.5156283, step = 2801 (0.336 sec)\n",
      "INFO:tensorflow:global_step/sec: 306.502\n",
      "INFO:tensorflow:loss = 6.7584763, step = 2901 (0.322 sec)\n",
      "INFO:tensorflow:global_step/sec: 310.794\n",
      "INFO:tensorflow:loss = 7.611118, step = 3001 (0.326 sec)\n",
      "INFO:tensorflow:global_step/sec: 272.842\n",
      "INFO:tensorflow:loss = 6.033656, step = 3101 (0.363 sec)\n",
      "INFO:tensorflow:global_step/sec: 316.96\n",
      "INFO:tensorflow:loss = 5.6055813, step = 3201 (0.319 sec)\n",
      "INFO:tensorflow:global_step/sec: 303.3\n",
      "INFO:tensorflow:loss = 6.6027927, step = 3301 (0.326 sec)\n",
      "INFO:tensorflow:global_step/sec: 271.023\n",
      "INFO:tensorflow:loss = 4.853623, step = 3401 (0.373 sec)\n",
      "INFO:tensorflow:global_step/sec: 306.259\n",
      "INFO:tensorflow:loss = 4.504056, step = 3501 (0.323 sec)\n",
      "INFO:tensorflow:global_step/sec: 320.977\n",
      "INFO:tensorflow:loss = 7.0292773, step = 3601 (0.308 sec)\n",
      "INFO:tensorflow:global_step/sec: 273.494\n",
      "INFO:tensorflow:loss = 6.6291256, step = 3701 (0.372 sec)\n",
      "INFO:tensorflow:global_step/sec: 286.289\n",
      "INFO:tensorflow:loss = 5.936425, step = 3801 (0.351 sec)\n",
      "INFO:tensorflow:global_step/sec: 313.567\n",
      "INFO:tensorflow:loss = 4.7403398, step = 3901 (0.315 sec)\n",
      "INFO:tensorflow:global_step/sec: 320.293\n",
      "INFO:tensorflow:loss = 5.198533, step = 4001 (0.312 sec)\n",
      "INFO:tensorflow:global_step/sec: 280.055\n",
      "INFO:tensorflow:loss = 6.0418916, step = 4101 (0.357 sec)\n",
      "INFO:tensorflow:global_step/sec: 325.061\n",
      "INFO:tensorflow:loss = 7.2168293, step = 4201 (0.312 sec)\n",
      "INFO:tensorflow:global_step/sec: 313.602\n",
      "INFO:tensorflow:loss = 4.0039744, step = 4301 (0.319 sec)\n",
      "INFO:tensorflow:global_step/sec: 279.653\n",
      "INFO:tensorflow:loss = 7.211954, step = 4401 (0.354 sec)\n",
      "INFO:tensorflow:global_step/sec: 303.304\n",
      "INFO:tensorflow:loss = 5.2624598, step = 4501 (0.330 sec)\n",
      "INFO:tensorflow:global_step/sec: 299.747\n",
      "INFO:tensorflow:loss = 6.5190916, step = 4601 (0.339 sec)\n",
      "INFO:tensorflow:global_step/sec: 274.047\n",
      "INFO:tensorflow:loss = 4.253751, step = 4701 (0.369 sec)\n",
      "INFO:tensorflow:global_step/sec: 250.794\n",
      "INFO:tensorflow:loss = 6.5285716, step = 4801 (0.400 sec)\n",
      "INFO:tensorflow:global_step/sec: 254.925\n",
      "INFO:tensorflow:loss = 5.7343135, step = 4901 (0.387 sec)\n",
      "INFO:tensorflow:Saving checkpoints for 5000 into C:\\Users\\MY-PC~1\\AppData\\Local\\Temp\\tmpodjni8cg\\model.ckpt.\n",
      "INFO:tensorflow:Loss for final step: 5.2376986.\n"
     ]
    },
    {
     "data": {
      "text/plain": [
       "<tensorflow_estimator.python.estimator.canned.linear.LinearClassifier at 0x28bde9a4668>"
      ]
     },
     "execution_count": 20,
     "metadata": {},
     "output_type": "execute_result"
    }
   ],
   "source": [
    "model.train(input_fn=input_fun,steps =5000,)"
   ]
  },
  {
   "cell_type": "code",
   "execution_count": 21,
   "metadata": {},
   "outputs": [],
   "source": [
    "eval_input_fun =tf.estimator.inputs.pandas_input_fn(x=X_test,\n",
    "                                                   y=y_test,\n",
    "                                                    batch_size=40,\n",
    "                                                   num_epochs=1,\n",
    "                                                   shuffle=False)"
   ]
  },
  {
   "cell_type": "code",
   "execution_count": 22,
   "metadata": {},
   "outputs": [
    {
     "name": "stdout",
     "output_type": "stream",
     "text": [
      "INFO:tensorflow:Calling model_fn.\n",
      "WARNING:tensorflow:From C:\\ProgramData\\Anaconda3\\lib\\site-packages\\tensorflow\\python\\ops\\metrics_impl.py:2002: div (from tensorflow.python.ops.math_ops) is deprecated and will be removed in a future version.\n",
      "Instructions for updating:\n",
      "Deprecated in favor of operator or tf.math.divide.\n",
      "WARNING:tensorflow:Trapezoidal rule is known to produce incorrect PR-AUCs; please switch to \"careful_interpolation\" instead.\n",
      "WARNING:tensorflow:Trapezoidal rule is known to produce incorrect PR-AUCs; please switch to \"careful_interpolation\" instead.\n",
      "INFO:tensorflow:Done calling model_fn.\n",
      "INFO:tensorflow:Starting evaluation at 2019-09-10T20:38:16Z\n",
      "INFO:tensorflow:Graph was finalized.\n",
      "WARNING:tensorflow:From C:\\ProgramData\\Anaconda3\\lib\\site-packages\\tensorflow\\python\\training\\saver.py:1266: checkpoint_exists (from tensorflow.python.training.checkpoint_management) is deprecated and will be removed in a future version.\n",
      "Instructions for updating:\n",
      "Use standard file APIs to check for files with this prefix.\n",
      "INFO:tensorflow:Restoring parameters from C:\\Users\\MY-PC~1\\AppData\\Local\\Temp\\tmpodjni8cg\\model.ckpt-5000\n",
      "INFO:tensorflow:Running local_init_op.\n",
      "INFO:tensorflow:Done running local_init_op.\n",
      "INFO:tensorflow:Finished evaluation at 2019-09-10-20:38:18\n",
      "INFO:tensorflow:Saving dict for global step 5000: accuracy = 0.76623374, accuracy_baseline = 0.64935064, auc = 0.80921805, auc_precision_recall = 0.6778344, average_loss = 0.5410936, global_step = 5000, label/mean = 0.35064936, loss = 20.832104, precision = 0.7647059, prediction/mean = 0.37658954, recall = 0.4814815\n",
      "INFO:tensorflow:Saving 'checkpoint_path' summary for global step 5000: C:\\Users\\MY-PC~1\\AppData\\Local\\Temp\\tmpodjni8cg\\model.ckpt-5000\n"
     ]
    }
   ],
   "source": [
    "results =model.evaluate(eval_input_fun)"
   ]
  },
  {
   "cell_type": "code",
   "execution_count": 23,
   "metadata": {},
   "outputs": [
    {
     "data": {
      "text/plain": [
       "0.76623374"
      ]
     },
     "execution_count": 23,
     "metadata": {},
     "output_type": "execute_result"
    }
   ],
   "source": [
    "results[\"accuracy\"]"
   ]
  },
  {
   "cell_type": "code",
   "execution_count": null,
   "metadata": {},
   "outputs": [],
   "source": []
  },
  {
   "cell_type": "code",
   "execution_count": null,
   "metadata": {},
   "outputs": [],
   "source": []
  }
 ],
 "metadata": {
  "kernelspec": {
   "display_name": "Python 3",
   "language": "python",
   "name": "python3"
  },
  "language_info": {
   "codemirror_mode": {
    "name": "ipython",
    "version": 3
   },
   "file_extension": ".py",
   "mimetype": "text/x-python",
   "name": "python",
   "nbconvert_exporter": "python",
   "pygments_lexer": "ipython3",
   "version": "3.7.1"
  }
 },
 "nbformat": 4,
 "nbformat_minor": 2
}
